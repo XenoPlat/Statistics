{
 "cells": [
  {
   "cell_type": "markdown",
   "metadata": {},
   "source": [
    "# Урок 2\n",
    "\n",
    "## Дискретные случайные величины. Закон распределения вероятностей.  Биномиальный закон распределения. Распределение Пуассона"
   ]
  },
  {
   "cell_type": "code",
   "execution_count": 1,
   "metadata": {},
   "outputs": [],
   "source": [
    "import numpy as np\n",
    "from math import factorial\n",
    "from math import exp\n",
    "import warnings\n",
    "warnings.filterwarnings('ignore')"
   ]
  },
  {
   "cell_type": "markdown",
   "metadata": {},
   "source": [
    "### Задача 1"
   ]
  },
  {
   "cell_type": "markdown",
   "metadata": {},
   "source": [
    "#### Контрольная работа состоит из пяти вопросов. На каждый вопрос приведено четыре варианта ответа, один из которых правильный. Составьте закон распределения числа правильных ответов при простом угадывании. Найдите M(X), D(X)."
   ]
  },
  {
   "cell_type": "markdown",
   "metadata": {},
   "source": [
    "1. Результат ответа на любой из вопросов не зависит от ответов на другие вопросы, т.е. события независимые.\n",
    "2. Вероятность правильного ответа на любой из вопросов равна $\\dfrac{1}{4}$ (0.25)\n",
    "3. Как нам хорошо известно, биномиальный закон описывает распределение случайной величины 𝑋, задающей число наступлений события  𝐴 в ходе проведения 𝑛 независимых опытов.\n",
    "\n",
    "__Т.о., мы можем воспользоваться основными вывадами (формулами) из биномиального закона.__"
   ]
  },
  {
   "cell_type": "markdown",
   "metadata": {},
   "source": [
    "$M(X) = np\\; = 5 \\cdot \\dfrac{1}{4} = 1.25\\\\ D(X) = np(1 - p)\\; = 5 \\cdot \\dfrac{1}{4}\\cdot(1-\\dfrac{1}{4})\\; = 0.9375 $"
   ]
  },
  {
   "cell_type": "markdown",
   "metadata": {},
   "source": [
    "Возможные значения случайной величины (в нашем случае правильных ответов) при простом угадывании: $x_1 = 0$, $x_2 = 1$, $x_3 = 2$, $x_4 = 3$, $x_5 = 4$, $x_6 = 5$. Посчитаем вероятность каждого значения, используя __формулу Бернулли__ $P_n = C_n^k p^k (1 - p)^{n - k}\\;$:"
   ]
  },
  {
   "cell_type": "code",
   "execution_count": 2,
   "metadata": {},
   "outputs": [
    {
     "name": "stdout",
     "output_type": "stream",
     "text": [
      "P(0)=0.2373\n",
      "P(1)=0.3955\n",
      "P(2)=0.2637\n",
      "P(3)=0.0879\n",
      "P(4)=0.0146\n",
      "P(5)=0.001\n"
     ]
    }
   ],
   "source": [
    "def combinations(n: int, k: int) -> int:\n",
    "    return np.math.factorial(n) // (np.math.factorial(k) * np.math.factorial(n - k))\n",
    "\n",
    "distr = []\n",
    "\n",
    "for i in range(0, 6):\n",
    "    P = np.round(combinations(5, i)*.25**i*.75**(5-i),4)\n",
    "    print(f'P({i})={P}')\n",
    "    distr.append(P)"
   ]
  },
  {
   "cell_type": "markdown",
   "metadata": {},
   "source": [
    "Итак, закон распределения такой случайной величины:\n",
    "\n",
    "<table border=\"3\">\n",
    "    <tr>\n",
    "        <th>$x$</th>\n",
    "        <td>0</td>\n",
    "        <td>1</td>\n",
    "        <td>2</td>\n",
    "        <td>3</td>\n",
    "        <td>4</td>\n",
    "        <td>5</td>\n",
    "    </tr>\n",
    "    <tr>\n",
    "        <th>$P(X = x)$</th>\n",
    "        <td>0.2373</td>\n",
    "        <td>0.3955</td>\n",
    "        <td>0.2637</td>\n",
    "        <td>0.0879</td>\n",
    "        <td>0.0146</td>\n",
    "        <td>0.001</td>\n",
    "    </tr>\n",
    "</table>"
   ]
  },
  {
   "cell_type": "markdown",
   "metadata": {},
   "source": [
    "### Задача 2"
   ]
  },
  {
   "cell_type": "markdown",
   "metadata": {},
   "source": [
    "#### Вероятность попадания в цель при одном выстреле равна 0.01. Какова вероятность того, что число попаданий при 200 выстрелах будет не менее 5 и не более 10?"
   ]
  },
  {
   "cell_type": "markdown",
   "metadata": {},
   "source": [
    "Похоже мы имеем дело со счетчиком событий с достаточно большим количеством испытаний и достаточно малой вероятностью благоприятных исходов. Поэтому для решения данной задачи воспользуемся формулой Пуассона: $P(X = k) = \\dfrac{a^k e ^{-a}}{k!}\\; \\approx\\large \\frac{\\lambda^m}{m!}e^{-\\lambda},\\; где\\; λ = np = 200 \\cdot 0.01 = 2$."
   ]
  },
  {
   "cell_type": "markdown",
   "metadata": {},
   "source": [
    "По теореме сложения вероятностей имеем:\n",
    "\n",
    "$P(5<=X<=10) = P(X=5) + P(X=6) + P(X=7) + P(X=8) + P(X=9) + P(X=10)$"
   ]
  },
  {
   "cell_type": "code",
   "execution_count": 3,
   "metadata": {},
   "outputs": [
    {
     "name": "stdout",
     "output_type": "stream",
     "text": [
      "Вероятность того, что число попаданий при 200 выстрелах будет не менее 5 и не более 10 = 0.0526\n"
     ]
    }
   ],
   "source": [
    "p, n = 0.01, 200\n",
    "\n",
    "def puasson(n, m, p):\n",
    "    lambda_ = n * p\n",
    "    return (lambda_**m / np.math.factorial(m)) * np.exp(-lambda_)\n",
    "\n",
    "sum_ = 0\n",
    "for i in range(5, 11):\n",
    "    sum_ += puasson(n, i, p)\n",
    "\n",
    "print(f'Вероятность того, что число попаданий при 200 выстрелах будет не менее 5 и не более 10 =', np.round(sum_,4))"
   ]
  },
  {
   "cell_type": "markdown",
   "metadata": {},
   "source": [
    "### Задача 3"
   ]
  },
  {
   "cell_type": "markdown",
   "metadata": {},
   "source": [
    "#### В условиях предыдущей задачи сколько выстрелов нужно сделать, чтобы быть уверенным с вероятностью 0.9, что хотя бы 10 раз будет совершено попадание?\n",
    "\n",
    "#### Подсказка. Как посчитать P(X >= k) для величины X, имеющей распределение Пуассона? Здесь предстоит немножко покодить."
   ]
  },
  {
   "cell_type": "markdown",
   "metadata": {},
   "source": [
    "По сути нужно найти алгоритм со счетчиком и циклом, который перебирал бы значения n до тех пор, пока сумма вероятностей не достигнет искомого значения. Кажется нужно искать не p, а q."
   ]
  },
  {
   "cell_type": "code",
   "execution_count": 4,
   "metadata": {},
   "outputs": [
    {
     "name": "stdout",
     "output_type": "stream",
     "text": [
      "Нужно сделать 1421 выстрелов, чтобы быть уверенным с вероятностью 0.9, что хотя бы 10 раз будет совершено попадание.\n",
      "На всякий случай: вероятность равна 0.9002\n"
     ]
    }
   ],
   "source": [
    "p, k, n = 0.01, 10, 10\n",
    "\n",
    "def puss(n, k, p):\n",
    "    sum_ = 0\n",
    "    for i in range(0, k):  \n",
    "        sum_ += puasson(n, i, p)\n",
    "    return 1 - sum_\n",
    "\n",
    "while puss(n, k, p) <= 0.9:\n",
    "    n += 1\n",
    "    \n",
    "print(f'Нужно сделать {n} выстрелов, чтобы быть уверенным с вероятностью 0.9, что хотя бы 10 раз будет совершено попадание.\\n'\n",
    "      f'На всякий случай: вероятность равна {np.round(puss(n, k, p),4)}')"
   ]
  }
 ],
 "metadata": {
  "colab": {
   "name": "Матстат - Урок 1.ipynb",
   "provenance": [],
   "version": "0.3.2"
  },
  "kernelspec": {
   "display_name": "Python 3",
   "language": "python",
   "name": "python3"
  },
  "language_info": {
   "codemirror_mode": {
    "name": "ipython",
    "version": 3
   },
   "file_extension": ".py",
   "mimetype": "text/x-python",
   "name": "python",
   "nbconvert_exporter": "python",
   "pygments_lexer": "ipython3",
   "version": "3.7.3"
  }
 },
 "nbformat": 4,
 "nbformat_minor": 4
}
