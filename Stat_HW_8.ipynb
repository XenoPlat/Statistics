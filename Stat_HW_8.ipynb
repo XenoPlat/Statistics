{
 "cells": [
  {
   "cell_type": "markdown",
   "metadata": {},
   "source": [
    "# Урок 8\n",
    "\n",
    "## Дисперсионный анализ. Логистическая регрессия."
   ]
  },
  {
   "cell_type": "code",
   "execution_count": 1,
   "metadata": {},
   "outputs": [],
   "source": [
    "import numpy as np\n",
    "import pandas as pd\n",
    "from matplotlib import pyplot as plt\n",
    "from scipy import stats\n",
    "from scipy.stats import norm\n",
    "import seaborn as sns\n",
    "import warnings\n",
    "warnings.filterwarnings('ignore')"
   ]
  },
  {
   "cell_type": "markdown",
   "metadata": {},
   "source": [
    "### Задача 1\n",
    "\n",
    "#### Объясняемая переменная y зависит от двух категориальных факторов `A` и `B`, причём фактор `A` имеет 3 уровня, а фактор `B` - 4 уровня. Результаты наблюдений приведены в таблице:\n",
    "\n",
    "```\n",
    "y = [[2.68, 3.29, 2.88, 4.45],\n",
    "     [4.12, 4.96, 5.09, 5.22],\n",
    "     [5.52, 4.50, 5.42, 5.29]\n",
    "```\n",
    "     \n",
    "__С помощью двухфакторного дисперсионного анализа проверьте влияние каждого из факторов на переменную `y`.__"
   ]
  },
  {
   "cell_type": "markdown",
   "metadata": {},
   "source": [
    "__Решение:__\n",
    "\n",
    "Нулевые гипотезы:\n",
    "\n",
    "$H_{0A}: \\: \\overline{y_{1 \\ast}} = \\dots = \\overline{y_{m \\ast}}\\;$ (фактор _не значим_)\n",
    "\n",
    "$H_{0B}: \\: \\overline{y_{\\ast 1}} = \\dots = \\overline{y_{\\ast k}}\\;$ (фактор _не значим_)\n",
    "\n",
    "Ниже следует блок вычислений оценки дисперсий через суммы квадратов отклонений и поиск Т-статискик для факторов `A` и `B`, чтобы оценить их значимость действительность гипотез."
   ]
  },
  {
   "cell_type": "code",
   "execution_count": 13,
   "metadata": {},
   "outputs": [
    {
     "data": {
      "text/plain": [
       "array([2.68, 3.29, 2.88, 4.45, 4.12, 4.96, 5.09, 5.22, 5.52, 4.5 , 5.42,\n",
       "       5.29])"
      ]
     },
     "execution_count": 13,
     "metadata": {},
     "output_type": "execute_result"
    }
   ],
   "source": [
    "y_a1 = np.array([2.68, 3.29, 2.88, 4.45])\n",
    "y_a2 = np.array([4.12, 4.96, 5.09, 5.22])\n",
    "y_a3 = np.array([5.52, 4.50, 5.42, 5.29])\n",
    "\n",
    "y_b1 = np.array([2.68, 4.12, 5.52])\n",
    "y_b2 = np.array([3.29, 4.96, 4.50])\n",
    "y_b3 = np.array([2.88, 5.09, 5.42])\n",
    "y_b4 = np.array([4.45, 5.22, 5.29])\n",
    "\n",
    "m, k = 3, 4\n",
    "\n",
    "y = np.concatenate([y_a1, y_a2, y_a3])\n",
    "y"
   ]
  },
  {
   "cell_type": "code",
   "execution_count": 15,
   "metadata": {},
   "outputs": [
    {
     "data": {
      "text/plain": [
       "(3.325, 4.8475, 5.1825)"
      ]
     },
     "execution_count": 15,
     "metadata": {},
     "output_type": "execute_result"
    }
   ],
   "source": [
    "y_a1_mean = np.mean(y_a1)\n",
    "y_a2_mean = np.mean(y_a2)\n",
    "y_a3_mean = np.mean(y_a3)\n",
    "\n",
    "y_a1_mean, y_a2_mean, y_a3_mean"
   ]
  },
  {
   "cell_type": "code",
   "execution_count": 16,
   "metadata": {},
   "outputs": [
    {
     "data": {
      "text/plain": [
       "(4.1066666666666665, 4.25, 4.463333333333334, 4.986666666666667)"
      ]
     },
     "execution_count": 16,
     "metadata": {},
     "output_type": "execute_result"
    }
   ],
   "source": [
    "y_b1_mean = np.mean(y_b1)\n",
    "y_b2_mean = np.mean(y_b2)\n",
    "y_b3_mean = np.mean(y_b3)\n",
    "y_b4_mean = np.mean(y_b4)\n",
    "\n",
    "y_b1_mean, y_b2_mean, y_b3_mean, y_b4_mean"
   ]
  },
  {
   "cell_type": "code",
   "execution_count": 17,
   "metadata": {},
   "outputs": [
    {
     "data": {
      "text/plain": [
       "4.451666666666666"
      ]
     },
     "execution_count": 17,
     "metadata": {},
     "output_type": "execute_result"
    }
   ],
   "source": [
    "y_mean = np.mean(y)\n",
    "y_mean"
   ]
  },
  {
   "cell_type": "code",
   "execution_count": 20,
   "metadata": {},
   "outputs": [
    {
     "data": {
      "text/plain": [
       "(1.338166666666669, 7.8407166666666654, 3.2591527777777762)"
      ]
     },
     "execution_count": 20,
     "metadata": {},
     "output_type": "execute_result"
    }
   ],
   "source": [
    "s2_a = k * (((y_a1_mean - y_mean) ** 2) + ((y_a2_mean - y_mean) ** 2) + ((y_a3_mean - y_mean) ** 2))\n",
    "s2_b = m * (((y_b1_mean - y_mean) ** 2) + ((y_b2_mean - y_mean) ** 2) + ((y_b3_mean - y_mean) ** 2) \n",
    "            + ((y_b4_mean - y_mean) ** 2))\n",
    "s2_res = np.sum((y_a1 - y_a1_mean - y_b1_mean + y_mean) ** 2) + np.sum((y_a2 - y_a2_mean - y_b2_mean + y_mean) ** 2) \n",
    "+ np.sum((y_a3 - y_a3_mean - y_b3_mean + y_mean) ** 2)\n",
    "s2_b, s2_a, s2_res"
   ]
  },
  {
   "cell_type": "code",
   "execution_count": 24,
   "metadata": {},
   "outputs": [
    {
     "data": {
      "text/plain": [
       "(3.9203583333333327, 0.4460555555555563, 0.5431921296296294)"
      ]
     },
     "execution_count": 24,
     "metadata": {},
     "output_type": "execute_result"
    }
   ],
   "source": [
    "sigma2_a = s2_a / (m - 1)\n",
    "sigma2_b = s2_b / (k - 1)\n",
    "sigma2_res = s2_res / ((k - 1) * (m - 1))\n",
    "\n",
    "sigma2_a, sigma2_b, sigma2_res"
   ]
  },
  {
   "cell_type": "markdown",
   "metadata": {},
   "source": [
    "__Считаем Т-статистики:__"
   ]
  },
  {
   "cell_type": "code",
   "execution_count": 35,
   "metadata": {},
   "outputs": [
    {
     "name": "stdout",
     "output_type": "stream",
     "text": [
      "Проверка значимости фактора А\n",
      "Фактор А значим, т.е. гипотеза отвергается (T_A > T_crit, или 7.217259086589479 > 4.25649472909375)\n",
      "Проверка значимости фактора B\n",
      "Фактор B не значим, т.е. гипотеза принимается (T_B < T_crit, или 0.8211745554187158 < 4.06618055135116)\n"
     ]
    }
   ],
   "source": [
    "F_h_a = sigma2_a / sigma2_res\n",
    "F_h_b = sigma2_b / sigma2_res\n",
    "\n",
    "n = k * m\n",
    "\n",
    "f1_a = m - 1\n",
    "f2_a = n - m\n",
    "\n",
    "f1_b = k - 1\n",
    "f2_b = n - k\n",
    "\n",
    "alpha = 0.05\n",
    "\n",
    "F_crit_a = stats.f.ppf(1 - alpha, f1_a, f2_a)\n",
    "\n",
    "F_crit_b = stats.f.ppf(1 - alpha, f1_b, f2_b)\n",
    "\n",
    "print('Проверка значимости фактора А')\n",
    "\n",
    "if F_h_a > F_crit_a:\n",
    "    print(f'Фактор А значим, т.е. гипотеза отвергается (T_A > T_crit, или {F_h_a} > {F_crit_a})')\n",
    "else:\n",
    "    print('Фактор А не значим, т.е. гипотеза принимается')\n",
    "    \n",
    "print('Проверка значимости фактора B')\n",
    "\n",
    "if F_h_b < F_crit_b:\n",
    "    print(f'Фактор B не значим, т.е. гипотеза принимается (T_B < T_crit, или {F_h_b} < {F_crit_b})')\n",
    "else:\n",
    "    print('Фактор B значим, т.е. гипотеза отвергается')"
   ]
  },
  {
   "cell_type": "markdown",
   "metadata": {},
   "source": [
    "### Задача 2\n",
    "\n",
    "__С помощью критерия Стьюдента для двух независимых выборок проверьте гипотезу о равенстве среднего роста футболистов и хоккеистов, основываясь на результатах измерений:__\n",
    "```\n",
    "football_players = [173, 175, 180, 178, 177, 185, 183, 182]\n",
    "hockey_players = [177, 179, 180, 188, 177, 172, 171, 184, 180]\n",
    "```"
   ]
  },
  {
   "cell_type": "markdown",
   "metadata": {},
   "source": [
    "__Решение:__\n",
    "\n",
    "Нулевая гипотеза:\n",
    "\n",
    "$H_{0A}: {\\overline{X_1} =\\overline{X_2}}$\n",
    "\n",
    "Ниже следует блок вычислений для проверки гипотезы."
   ]
  },
  {
   "cell_type": "code",
   "execution_count": 37,
   "metadata": {},
   "outputs": [
    {
     "name": "stdout",
     "output_type": "stream",
     "text": [
      "T_stat =  0.19928601397363732\n"
     ]
    }
   ],
   "source": [
    "football_players = np.array([173, 175, 180, 178, 177, 185, 183, 182])\n",
    "hockey_players = np.array([177, 179, 180, 188, 177, 172, 171, 184, 180])\n",
    "\n",
    "n1 = football_players.shape[0]\n",
    "n2 = hockey_players.shape[0]\n",
    "\n",
    "mean1 = football_players.mean()\n",
    "mean2 = hockey_players.mean()\n",
    "\n",
    "sigma1 = football_players.std(ddof=1)\n",
    "sigma2 = hockey_players.std(ddof=1)\n",
    "\n",
    "T = (mean1 - mean2) / np.sqrt((sigma1 ** 2) / n1 + (sigma2 ** 2) / n2)\n",
    "print('T_stat = ',T)"
   ]
  },
  {
   "cell_type": "code",
   "execution_count": 38,
   "metadata": {},
   "outputs": [
    {
     "name": "stdout",
     "output_type": "stream",
     "text": [
      "t_stat =  2.131449545559323\n"
     ]
    }
   ],
   "source": [
    "t = stats.t.ppf(1 - alpha / 2, df = n1 + n2 - 2)\n",
    "print('t_stat = ',t)"
   ]
  },
  {
   "cell_type": "code",
   "execution_count": 39,
   "metadata": {},
   "outputs": [
    {
     "name": "stdout",
     "output_type": "stream",
     "text": [
      "Гипотеза принимается\n"
     ]
    }
   ],
   "source": [
    "if -t < T < t:\n",
    "    print('Гипотеза принимается')"
   ]
  },
  {
   "cell_type": "markdown",
   "metadata": {},
   "source": [
    "### Задача 3\n",
    "\n",
    "__Прикрепите ссылку на курсовой проект на `github` (см. выбор темы в ДЗ к Уроку 6).__\n",
    "\n",
    "Будет к 8-му декабря."
   ]
  }
 ],
 "metadata": {
  "kernelspec": {
   "display_name": "Python 3",
   "language": "python",
   "name": "python3"
  },
  "language_info": {
   "codemirror_mode": {
    "name": "ipython",
    "version": 3
   },
   "file_extension": ".py",
   "mimetype": "text/x-python",
   "name": "python",
   "nbconvert_exporter": "python",
   "pygments_lexer": "ipython3",
   "version": "3.7.3"
  }
 },
 "nbformat": 4,
 "nbformat_minor": 2
}
