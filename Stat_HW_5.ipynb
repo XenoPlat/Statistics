{
 "cells": [
  {
   "cell_type": "markdown",
   "metadata": {},
   "source": [
    "# Урок 5\n",
    "\n",
    "## Проверка статистических гипотез. P-значения. Доверительные интервалы. A/B-тестирование."
   ]
  },
  {
   "cell_type": "code",
   "execution_count": 1,
   "metadata": {},
   "outputs": [],
   "source": [
    "import numpy as np\n",
    "import pandas as pd\n",
    "from matplotlib import pyplot as plt\n",
    "from scipy import stats\n",
    "import seaborn as sns\n",
    "import warnings\n",
    "warnings.filterwarnings('ignore')"
   ]
  },
  {
   "cell_type": "markdown",
   "metadata": {},
   "source": [
    "### Задача 1\n",
    "\n",
    "#### Утверждается, что шарики для подшипников, изготовленные автоматическим станком, имеют средний диаметр 17 мм. Используя уровень значимости 0.025 и правостороннюю критическую область, проверить данную гипотезу при условии, что в выборке из 100 шариков средний диаметр оказался равным 17.5 мм, а дисперсия известна и равна 4 мм."
   ]
  },
  {
   "cell_type": "code",
   "execution_count": 2,
   "metadata": {},
   "outputs": [],
   "source": [
    "n, m0, scale = 100, 17.5, 2\n",
    "mu = 17\n",
    "sigma = scale / np.sqrt(n)\n",
    "alpha = 0.025 "
   ]
  },
  {
   "cell_type": "code",
   "execution_count": 3,
   "metadata": {},
   "outputs": [
    {
     "data": {
      "text/plain": [
       "(17.4, inf)"
      ]
     },
     "execution_count": 3,
     "metadata": {},
     "output_type": "execute_result"
    }
   ],
   "source": [
    "(mu + 2 * sigma, float('inf'))"
   ]
  },
  {
   "cell_type": "markdown",
   "metadata": {},
   "source": [
    "Среднее значение выборки из 100 входит в правостороннюю критическую область 17.5 > 17.4, поэтому нулевая гипотеза, что шарики для подшипников имеют средний диметр 17 мм отвергается в пользу альтернативной гипотезы, что средний димаетр не равен 17 мм."
   ]
  },
  {
   "cell_type": "markdown",
   "metadata": {},
   "source": [
    "### Задача 2\n",
    "\n",
    "#### Известно, что генеральная совокупность распределена нормально с известным средним квадратическим отклонением 16. Найти доверительный интервал для оценки математического ожидания a с надёжностью 0.95, если выборочное среднее равно 80, а объём равен 256."
   ]
  },
  {
   "cell_type": "code",
   "execution_count": 4,
   "metadata": {},
   "outputs": [
    {
     "name": "stdout",
     "output_type": "stream",
     "text": [
      "Искомый интервал: (78.0, 82.0)\n"
     ]
    }
   ],
   "source": [
    "scale, m, n = 16, 80, 256\n",
    "print('Искомый интервал:',(m - 2 * scale / np.sqrt(n), m + 2 * scale / np.sqrt(n)))"
   ]
  },
  {
   "cell_type": "markdown",
   "metadata": {},
   "source": [
    "### Задача 3\n",
    "\n",
    "#### Продавец утверждает, что средний вес пачки печенья составляет 200 г. Из партии извлечена выборка из 10 пачек. Вес каждой пачки составляет:\n",
    "\n",
    "#### $202, 203, 199, 197, 195, 201, 200, 204, 194, 190$\n",
    "\n",
    "#### Известно, что их веса распределены нормально. Верно ли утверждение продавца, если учитывать, что уровень значимости равен 1%?"
   ]
  },
  {
   "cell_type": "code",
   "execution_count": 5,
   "metadata": {},
   "outputs": [
    {
     "name": "stdout",
     "output_type": "stream",
     "text": [
      "t= 3.25\n",
      "Доверительный интервал: [193.92 203.08]\n"
     ]
    }
   ],
   "source": [
    "sample = np.array([202, 203, 199, 197, 195, 201, 200, 204, 194, 190])\n",
    "mean = sample.mean()\n",
    "std = sample.std(ddof=1)\n",
    "n = 10\n",
    "alpha = 0.01\n",
    "t = stats.t.ppf(1 - alpha / 2, df=n - 1)\n",
    "print('t=',np.round(t,3))\n",
    "print('Доверительный интервал:',np.round((mean - t * std / np.sqrt(n), mean + t * std / np.sqrt(n)),2))"
   ]
  },
  {
   "cell_type": "markdown",
   "metadata": {},
   "source": [
    "Утверждение продавца верно."
   ]
  }
 ],
 "metadata": {
  "kernelspec": {
   "display_name": "Python 3",
   "language": "python",
   "name": "python3"
  },
  "language_info": {
   "codemirror_mode": {
    "name": "ipython",
    "version": 3
   },
   "file_extension": ".py",
   "mimetype": "text/x-python",
   "name": "python",
   "nbconvert_exporter": "python",
   "pygments_lexer": "ipython3",
   "version": "3.7.3"
  }
 },
 "nbformat": 4,
 "nbformat_minor": 2
}
