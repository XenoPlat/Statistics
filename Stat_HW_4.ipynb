{
 "cells": [
  {
   "cell_type": "markdown",
   "metadata": {},
   "source": [
    "# Урок 4\n",
    "\n",
    "## Непрерывные случайные величины. Функция распределения и плотность распределения вероятностей. Равномерное и нормальное распределение. Центральная предельная теорема."
   ]
  },
  {
   "cell_type": "code",
   "execution_count": 1,
   "metadata": {},
   "outputs": [],
   "source": [
    "import numpy as np\n",
    "import pandas as pd\n",
    "from matplotlib import pyplot as plt\n",
    "from scipy import stats\n",
    "import seaborn as sns\n",
    "import warnings\n",
    "warnings.filterwarnings('ignore')"
   ]
  },
  {
   "cell_type": "markdown",
   "metadata": {},
   "source": [
    "### Задача 1\n",
    "\n",
    "#### О непрерывной равномерно распределённой случайной величине B известно, что её дисперсия равна 0.2. Можно ли найти правую границу величины B и её среднее значение зная, что левая граница равна 0.5? Если да, найдите их."
   ]
  },
  {
   "cell_type": "markdown",
   "metadata": {},
   "source": [
    "Пусть $X$ — случайная величина, определённая на некотором вероятностном пространстве. Нам известно, что математическое ожидание и дисперсия равномерного распределения: $M(X) = \\dfrac{a + b}{2}, \\:\\: D(X) = \\dfrac{(b - a)^2}{12}$\n",
    "\n",
    "В таком случае мы можем подставить значение левой границы $a = 0.5$ и значение дисперсии $D(B) = 0.2$ в формулу и вывести значение правой границы $b.$\n",
    "\n",
    "$\\dfrac{(b - a)^2}{12} = 0.2\\; -> т.к. \\boldsymbol{b}\\;$ правая граница, то $b = 0.5+\\sqrt{2.4},\\; а\\; M(B) = \\dfrac{1 + \\sqrt{2.4}}{2}$\n",
    "\n",
    "Подключим достижения технологий и рассчитаем __b и M__:"
   ]
  },
  {
   "cell_type": "code",
   "execution_count": 2,
   "metadata": {},
   "outputs": [
    {
     "name": "stdout",
     "output_type": "stream",
     "text": [
      "b =  2.05\n",
      "M(B)=  1.275\n"
     ]
    }
   ],
   "source": [
    "print('b = ', np.round(0.5 + np.sqrt(2.4),2))\n",
    "print('M(B)= ',(1 + np.round(np.sqrt(2.4),2)) / 2)"
   ]
  },
  {
   "cell_type": "markdown",
   "metadata": {},
   "source": [
    "### Задача 2\n",
    "\n",
    "#### На сколько сигм (средних квадратических отклонений) отклоняется рост человека, равный 190 см, от математического ожидания роста в популяции, в которой M(X) = 178 и D(X) = 25?"
   ]
  },
  {
   "cell_type": "markdown",
   "metadata": {},
   "source": [
    "Опять же подключим достижения цивилизации:"
   ]
  },
  {
   "cell_type": "code",
   "execution_count": 3,
   "metadata": {},
   "outputs": [
    {
     "name": "stdout",
     "output_type": "stream",
     "text": [
      "На 2.4 сигмы.\n"
     ]
    }
   ],
   "source": [
    "print('На',(190-178)/np.sqrt(25),'сигмы.')"
   ]
  },
  {
   "cell_type": "markdown",
   "metadata": {},
   "source": [
    "### Задача 3\n",
    "\n",
    "#### Рост взрослого населения города $X$ имеет нормальное распределение, причём, средний рост равен $174$ см, а среднее квадратическое отклонение равно $8$ см. \n",
    "\n",
    "#### С помощью правил стандартного отклонения, двух и трёх сигм посчитайте, какова вероятность того, что случайным образом выбранный взрослый человек имеет рост:\n",
    "\n",
    "#### 1. больше 182 см?\n",
    "#### 2. больше 190 см?\n",
    "#### 3. от 166 см до 190 см?\n",
    "#### 4. от 166 см до 182 см?\n",
    "#### 5. от 158 см до 190 см?\n",
    "#### 6. не выше 150 см или не ниже 190 см?\n",
    "#### 7. не выше 150 см или не ниже 198 см?\n",
    "#### 8. ниже 166 см?"
   ]
  },
  {
   "cell_type": "markdown",
   "metadata": {},
   "source": [
    "__Решение:__\n",
    "\n",
    "Нам известно, что $M(X) = 174, D(X) = 8\\; -> \\sigma = \\sqrt{D(X)}$"
   ]
  },
  {
   "cell_type": "code",
   "execution_count": 4,
   "metadata": {},
   "outputs": [
    {
     "name": "stdout",
     "output_type": "stream",
     "text": [
      "sigma =  2.83\n"
     ]
    }
   ],
   "source": [
    "print('sigma = ', np.round(np.sqrt(8),2))"
   ]
  },
  {
   "cell_type": "markdown",
   "metadata": {},
   "source": [
    "Мы знаем, что одна $\\pm\\sigma$ содержит 68.2% значений из нормально распределённой выборки, две $\\pm\\sigma$ - 95.4%, три $\\pm\\sigma$ - 99.7%. Осталось определить вероятность попадания указанных в задаче величин в соответствующие интервалы. Впрочем, мы не знаем является ли выборка нормальной, поэтому сделаем допущение, что она соотвествует закону нормального распределения. Иначе - ой."
   ]
  },
  {
   "cell_type": "code",
   "execution_count": 5,
   "metadata": {},
   "outputs": [],
   "source": [
    "def prob(x):\n",
    "    M, sigma, v1, v2, v3 = 174, 8, 68.2, 95.4, 99.7\n",
    "    quantity = abs(M - x)/sigma\n",
    "    if 3 >= quantity > 2:\n",
    "        return v3\n",
    "    elif 2 >= quantity > 1:\n",
    "        return v2\n",
    "    elif 1 >= quantity > 0:\n",
    "        return v1"
   ]
  },
  {
   "cell_type": "code",
   "execution_count": 6,
   "metadata": {},
   "outputs": [
    {
     "name": "stdout",
     "output_type": "stream",
     "text": [
      "> 182 см =  15.90%\n",
      "> 190 см =  2.30%\n",
      "от 166 см до 190 см =  81.80%\n",
      "от 166 см до 182 см =  68.20%\n",
      "от 158 см до 190 см =  95.40%\n",
      "не выше 150 см или не ниже 198 см =  0.30%\n",
      "ниже 166 см =  15.90%\n"
     ]
    }
   ],
   "source": [
    "print(f'> 182 см = {(100 - prob(182))/2: .2f}%')\n",
    "print(f'> 190 см = {(100 - prob(190))/2: .2f}%')\n",
    "print(f'от 166 см до 190 см = {prob(166) + (prob(190)-prob(166))/2: .2f}%')\n",
    "print(f'от 166 см до 182 см = {prob(166) + (prob(182)-prob(166))/2: .2f}%')\n",
    "print(f'от 158 см до 190 см = {prob(158) + (prob(190)-prob(158))/2: .2f}%')\n",
    "print(f'не выше 150 см или не ниже 198 см = {(100 - prob(198)): .2f}%')\n",
    "print(f'ниже 166 см = {(100 - prob(166))/2: .2f}%')"
   ]
  }
 ],
 "metadata": {
  "kernelspec": {
   "display_name": "Python 3",
   "language": "python",
   "name": "python3"
  },
  "language_info": {
   "codemirror_mode": {
    "name": "ipython",
    "version": 3
   },
   "file_extension": ".py",
   "mimetype": "text/x-python",
   "name": "python",
   "nbconvert_exporter": "python",
   "pygments_lexer": "ipython3",
   "version": "3.7.3"
  }
 },
 "nbformat": 4,
 "nbformat_minor": 2
}
