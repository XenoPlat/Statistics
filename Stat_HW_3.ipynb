{
 "cells": [
  {
   "cell_type": "markdown",
   "metadata": {},
   "source": [
    "# Урок 3\n",
    "## Описательная статистика. Качественные и количественные характеристики популяции. Графическое представление данных."
   ]
  },
  {
   "cell_type": "code",
   "execution_count": 1,
   "metadata": {},
   "outputs": [],
   "source": [
    "import numpy as np\n",
    "import pandas as pd\n",
    "from matplotlib import pyplot as plt\n",
    "from scipy import stats\n",
    "import seaborn as sns\n",
    "import warnings\n",
    "warnings.filterwarnings('ignore')"
   ]
  },
  {
   "cell_type": "markdown",
   "metadata": {},
   "source": [
    "### Задача 1\n",
    "\n",
    "#### Даны значения зарплат из выборки выпускников: \n",
    "\n",
    "#### 100, 80, 75, 77, 89, 33, 45, 25, 65, 17, 30, 230, 24, 57, 55, 70, 75, 65, 84, 90, 150\n",
    "\n",
    "#### Своими руками (т.е. без использования статистических функций вроде mean, std, var) посчитать среднее арифметическое, смещённую и несмещённую оценки дисперсии, среднее квадратичное отклонение для данной выборки.\n",
    "\n",
    "#### Можно затем посчитать те же значения с использованием статистических функций, чтобы проверить себя."
   ]
  },
  {
   "cell_type": "code",
   "execution_count": 2,
   "metadata": {},
   "outputs": [
    {
     "name": "stdout",
     "output_type": "stream",
     "text": [
      "Расчет на бамажке:\n",
      "Среднее арифметическое: 73.14\n",
      "Смещенная дисперсия: 2135.07\n",
      "Несмещенная дисперсия: 2241.83\n",
      "Std по выборочной дисперсии: 46.21\n",
      "Std по несмещенной дисперсии: 47.35\n"
     ]
    }
   ],
   "source": [
    "sample = np.array([100, 80, 75, 77, 89, 33, 45, 25, 65, 17, 30, 230, 24, 57, 55, 70, 75, 65, 84, 90, 150])\n",
    "mean = sample.sum()/sample.size\n",
    "var = ((sample-mean)**2).sum()/sample.size\n",
    "rvar = ((sample-mean)**2).sum()/(sample.size-1)\n",
    "std = np.sqrt(var)\n",
    "rstd = np.sqrt(rvar)\n",
    "\n",
    "print('Расчет на бамажке:')\n",
    "print('Среднее арифметическое:', np.round(mean,2))\n",
    "print('Смещенная дисперсия:', np.round(var,2))\n",
    "print('Несмещенная дисперсия:', np.round(rvar,2))\n",
    "print('Std по выборочной дисперсии:', np.round(std,2))\n",
    "print('Std по несмещенной дисперсии:', np.round(rstd,2))"
   ]
  },
  {
   "cell_type": "markdown",
   "metadata": {},
   "source": [
    "### Задача 2\n",
    "\n",
    "#### Для выборки из задачи 1 найти (также без использования статистических функций) медиану, первый и третий квартили, интерквартильное расстояние. Найти выборсы в выборке, используя для этого \"усы\" из boxplot.\n",
    "\n",
    "#### В этой задаче неоднозначности в вычислении квантилей можно разрешать любым способом."
   ]
  },
  {
   "cell_type": "code",
   "execution_count": 3,
   "metadata": {},
   "outputs": [
    {
     "data": {
      "text/plain": [
       "array([ 17,  24,  25,  30,  33,  45,  55,  57,  65,  65,  70,  75,  75,\n",
       "        77,  80,  84,  89,  90, 100, 150, 230])"
      ]
     },
     "execution_count": 3,
     "metadata": {},
     "output_type": "execute_result"
    }
   ],
   "source": [
    "sort_sample = np.sort(sample)\n",
    "sort_sample"
   ]
  },
  {
   "cell_type": "code",
   "execution_count": 4,
   "metadata": {},
   "outputs": [
    {
     "name": "stdout",
     "output_type": "stream",
     "text": [
      "Mедиана: 70\n",
      "1 квартиль: 45\n",
      "3 квартиль: 84\n",
      "Интерквартильный размах: 39\n"
     ]
    }
   ],
   "source": [
    "print('Mедиана:', sort_sample[sample.size//2])\n",
    "q1 = sort_sample[sample.size//4]\n",
    "q3 = sort_sample[sample.size*3//4]\n",
    "interq = q3-q1\n",
    "print('1 квартиль:', q1)\n",
    "print('3 квартиль:', q3)\n",
    "print('Интерквартильный размах:', interq)"
   ]
  },
  {
   "cell_type": "code",
   "execution_count": 5,
   "metadata": {},
   "outputs": [
    {
     "name": "stdout",
     "output_type": "stream",
     "text": [
      "Усы boxplot: (-13.5, 142.5)\n"
     ]
    }
   ],
   "source": [
    "boxplot_range = (q1 - 1.5 * interq, q3 + 1.5 * interq)\n",
    "print('Усы boxplot:', boxplot_range)"
   ]
  },
  {
   "cell_type": "code",
   "execution_count": 6,
   "metadata": {},
   "outputs": [
    {
     "name": "stdout",
     "output_type": "stream",
     "text": [
      "Bыбросы: [150, 230]\n"
     ]
    }
   ],
   "source": [
    "outliers = []\n",
    "for i in sort_sample:\n",
    "    if i < boxplot_range[0] or i > boxplot_range[1]:\n",
    "        outliers.append(i)\n",
    "\n",
    "print('Bыбросы:', outliers)"
   ]
  },
  {
   "cell_type": "code",
   "execution_count": 7,
   "metadata": {},
   "outputs": [
    {
     "data": {
      "text/plain": [
       "{'whiskers': [<matplotlib.lines.Line2D at 0x214085d4860>,\n",
       "  <matplotlib.lines.Line2D at 0x214085d4ba8>],\n",
       " 'caps': [<matplotlib.lines.Line2D at 0x214085d4ef0>,\n",
       "  <matplotlib.lines.Line2D at 0x214085d4fd0>],\n",
       " 'boxes': [<matplotlib.lines.Line2D at 0x214085d4400>],\n",
       " 'medians': [<matplotlib.lines.Line2D at 0x214085ea5c0>],\n",
       " 'fliers': [<matplotlib.lines.Line2D at 0x214085ea908>],\n",
       " 'means': []}"
      ]
     },
     "execution_count": 7,
     "metadata": {},
     "output_type": "execute_result"
    },
    {
     "data": {
      "image/png": "[encoded data removed]",
      "text/plain": [
       "<Figure size 432x288 with 1 Axes>"
      ]
     },
     "metadata": {
      "needs_background": "light"
     },
     "output_type": "display_data"
    }
   ],
   "source": [
    "plt.boxplot(sort_sample)"
   ]
  },
  {
   "cell_type": "markdown",
   "metadata": {},
   "source": [
    "### Задача 3\n",
    "\n",
    "#### В университет на факультеты A и B поступило равное количество студентов, а на факультет C студентов поступило столько же, сколько на A и B вместе. Вероятность того, что студент факультета A сдаст первую сессию, равна 0.8. Для студента факультета B эта вероятность равна 0.7, а для студента факультета C - 0.9. Студент сдал первую сессию. Какова вероятность, что он учится: a) на факультете A? б) на факультете B? в) на факультете C?\n",
    "\n",
    "#### Замечание: да, эта задача не на тему описательных статистик, но тема важная, и её стоит иногда освежать в памяти."
   ]
  },
  {
   "cell_type": "markdown",
   "metadata": {},
   "source": [
    "Используем для решения задачи формулу Байеса.\n",
    "\n",
    "Определимся что событие $A$ - это сданная сессия. Событие $B_i$ что сдал студент с i-го факультета. Нам надо найти $P(B_i|A)$. По формуле Байеса получаем $P(B_i|A) = \\dfrac{P(A|B_i) \\cdot P(B_i)}{P(A)}$\n",
    "\n",
    "Определим вероятность что сессию сдал студент i-го факультета. Т.к. студентов на факультете C в 2 раза больше чем на факультетах A и B, $P(B_A) = P(B_B) = \\dfrac{1}{4}$, $P(B_C) = \\dfrac{1}{2}$\n",
    "Вероятности $P(A|B_i)$ нам даны: $P(A|B_A) = 0.8$, $P(A|B_B) = 0.7$, $P(A|B_A) = 0.9$.\n",
    "Осталось посчитать вероятность сдачи сессии студентами всех факультетов. Воспользуемся формулой полной вероятности.\n",
    "\n",
    "$$P(A) = P(A|B_A) \\cdot P(B_A) + P(A|B_B) \\cdot P(B_B) + P(A|B_C) \\cdot P(B_C).$$\n",
    "\n",
    "$$P(A) = 0.8 \\cdot \\dfrac{1}{4} + 0.7 \\cdot \\dfrac{1}{4} + 0.9 \\cdot \\dfrac{1}{2}.$$"
   ]
  },
  {
   "cell_type": "code",
   "execution_count": 8,
   "metadata": {},
   "outputs": [
    {
     "name": "stdout",
     "output_type": "stream",
     "text": [
      "Bероятность сдачи сессии студентами всех факультетов: 0.825\n"
     ]
    }
   ],
   "source": [
    "p_student = [0.25, 0.25, 0.5]\n",
    "p_student_done = [0.8, 0.7, 0.9]\n",
    "\n",
    "P_A = p_student_done[0] * p_student[0] + p_student_done[1] * p_student[1] + p_student_done[2] * p_student[2]\n",
    "print('Bероятность сдачи сессии студентами всех факультетов:',P_A)"
   ]
  },
  {
   "cell_type": "markdown",
   "metadata": {},
   "source": [
    "Теперь можем посчитать искомые вероятности подставляя значения в формулу."
   ]
  },
  {
   "cell_type": "code",
   "execution_count": 9,
   "metadata": {},
   "outputs": [
    {
     "name": "stdout",
     "output_type": "stream",
     "text": [
      "Вероятность, что успешный скубент с факультета A: 0.24\n",
      "Вероятность, что успешный скубент с факультета B: 0.21\n",
      "Вероятность, что успешный скубент с факультета C: 0.55\n"
     ]
    }
   ],
   "source": [
    "def bayes(P_A_B, P_B, P_A):\n",
    "    return (P_A_B * P_B) / P_A\n",
    "\n",
    "student_a = bayes(p_student_done[0], p_student[0], P_A)\n",
    "student_b = bayes(p_student_done[1], p_student[1], P_A)\n",
    "student_c = bayes(p_student_done[2], p_student[2], P_A)\n",
    "print('Вероятность, что успешный скубент с факультета A:', np.round(student_a,2))\n",
    "print('Вероятность, что успешный скубент с факультета B:', np.round(student_b,2))\n",
    "print('Вероятность, что успешный скубент с факультета C:', np.round(student_c,2))"
   ]
  },
  {
   "cell_type": "markdown",
   "metadata": {},
   "source": [
    "Проверим:"
   ]
  },
  {
   "cell_type": "code",
   "execution_count": 10,
   "metadata": {},
   "outputs": [
    {
     "data": {
      "text/plain": [
       "1.0"
      ]
     },
     "execution_count": 10,
     "metadata": {},
     "output_type": "execute_result"
    }
   ],
   "source": [
    "student_a + student_b + student_c"
   ]
  }
 ],
 "metadata": {
  "kernelspec": {
   "display_name": "Python 3",
   "language": "python",
   "name": "python3"
  },
  "language_info": {
   "codemirror_mode": {
    "name": "ipython",
    "version": 3
   },
   "file_extension": ".py",
   "mimetype": "text/x-python",
   "name": "python",
   "nbconvert_exporter": "python",
   "pygments_lexer": "ipython3",
   "version": "3.7.3"
  }
 },
 "nbformat": 4,
 "nbformat_minor": 2
}
