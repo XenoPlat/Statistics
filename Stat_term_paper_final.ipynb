{
 "cells": [
  {
   "cell_type": "markdown",
   "metadata": {},
   "source": [
    "# Курсовой проект\n",
    "\n",
    "## А. Зырянов\n",
    "\n",
    "## Теория вероятностей и математическая статистика."
   ]
  },
  {
   "cell_type": "code",
   "execution_count": 1,
   "metadata": {},
   "outputs": [],
   "source": [
    "import numpy as np\n",
    "import pandas as pd\n",
    "from matplotlib import pyplot as plt\n",
    "from scipy import stats\n",
    "from scipy.stats import norm\n",
    "from pandas import DataFrame\n",
    "from sklearn import linear_model\n",
    "import statsmodels.api as sm\n",
    "import statsmodels.formula.api as smf\n",
    "from pandas import Panel\n",
    "import seaborn as sns\n",
    "import tkinter as tk \n",
    "from matplotlib.backends.backend_tkagg import FigureCanvasTkAgg\n",
    "import warnings\n",
    "warnings.filterwarnings('ignore')"
   ]
  },
  {
   "cell_type": "markdown",
   "metadata": {},
   "source": [
    "### Задача"
   ]
  },
  {
   "cell_type": "markdown",
   "metadata": {},
   "source": [
    "Мистер Смит готовится написать аналитический отчет по компании __`ExxonMobil`__, одной из крупнейших компаний по переработке нефтегаза. В своем анализе Смит хочет привести чувствительность доходности акционерного капитала к различным экономичемким факторам. Например, как-то раз клиент спросил Смита как соотносится стоимость акций компании с изменением розничных цен на энергоресурсы. Смит полагает, что с изменением розничной цены, цена на акции компании движется в противоположном направлении. Но при этом он не знает насколько сильно два показателя взаимосвязаны. Смит говорит своей помощнице, знойной блондинке Бет, изучить ежеквартальную доходность на акции препарируемой компании относительно изменения в индексах __`CPIENG`__ и __`PPIСME`__ за квартал. Бет хочет сделать корреляционный и регрессионный анализы. Она подготовила данные за 100 кварталов: \n",
    "\n",
    "1. Средняя ежеквартальная доходность на акции, средняя по CPIENG и PPICME\n",
    "2. Стандартное отклонение\n",
    "3. Коваривция с CPIENG\n",
    "4. Ковариация с PPICME\n",
    "5. Ковариация между CPIENG и PPICME\n",
    "6. Корреляция между компанией и CPIENG\n",
    "7. Multiple R\n",
    "8. R-squared\n",
    "9. SEE\n",
    "10. Intercept"
   ]
  },
  {
   "cell_type": "markdown",
   "metadata": {},
   "source": [
    "1. Бет хочет определить является ли корреляция между нашими нефтегазовыми друзьями и CPIENG статистически надежной с 95% уверенностью.\n",
    "2. Если внезапно CPIENG обрушится на 1%, то как сильно разбогатеют акционеры нашей компании?\n",
    "3. Что нам говорит коэфф. детерменированности в модели, которую построила Бет?\n",
    "4. Что является некорректным из следующих утверждений, исходя из анализа Бет: ???"
   ]
  },
  {
   "cell_type": "markdown",
   "metadata": {},
   "source": [
    "__Решение:__"
   ]
  },
  {
   "cell_type": "code",
   "execution_count": 2,
   "metadata": {},
   "outputs": [
    {
     "data": {
      "text/html": [
       "<div>\n",
       "<style scoped>\n",
       "    .dataframe tbody tr th:only-of-type {\n",
       "        vertical-align: middle;\n",
       "    }\n",
       "\n",
       "    .dataframe tbody tr th {\n",
       "        vertical-align: top;\n",
       "    }\n",
       "\n",
       "    .dataframe thead th {\n",
       "        text-align: right;\n",
       "    }\n",
       "</style>\n",
       "<table border=\"1\" class=\"dataframe\">\n",
       "  <thead>\n",
       "    <tr style=\"text-align: right;\">\n",
       "      <th></th>\n",
       "      <th>DATE</th>\n",
       "      <th>ROE</th>\n",
       "      <th>CPI_CHANGE</th>\n",
       "      <th>PPI_CHANGE</th>\n",
       "    </tr>\n",
       "  </thead>\n",
       "  <tbody>\n",
       "    <tr>\n",
       "      <th>0</th>\n",
       "      <td>1994-10-01</td>\n",
       "      <td>0.0767</td>\n",
       "      <td>-0.024333</td>\n",
       "      <td>0.010</td>\n",
       "    </tr>\n",
       "    <tr>\n",
       "      <th>1</th>\n",
       "      <td>1995-01-01</td>\n",
       "      <td>0.0927</td>\n",
       "      <td>-0.017000</td>\n",
       "      <td>-0.010</td>\n",
       "    </tr>\n",
       "    <tr>\n",
       "      <th>2</th>\n",
       "      <td>1995-04-01</td>\n",
       "      <td>0.0975</td>\n",
       "      <td>0.028000</td>\n",
       "      <td>0.076</td>\n",
       "    </tr>\n",
       "    <tr>\n",
       "      <th>3</th>\n",
       "      <td>1995-07-01</td>\n",
       "      <td>0.1100</td>\n",
       "      <td>0.007333</td>\n",
       "      <td>-0.077</td>\n",
       "    </tr>\n",
       "    <tr>\n",
       "      <th>4</th>\n",
       "      <td>1995-10-01</td>\n",
       "      <td>0.1233</td>\n",
       "      <td>-0.037000</td>\n",
       "      <td>0.000</td>\n",
       "    </tr>\n",
       "  </tbody>\n",
       "</table>\n",
       "</div>"
      ],
      "text/plain": [
       "         DATE     ROE  CPI_CHANGE  PPI_CHANGE\n",
       "0  1994-10-01  0.0767   -0.024333       0.010\n",
       "1  1995-01-01  0.0927   -0.017000      -0.010\n",
       "2  1995-04-01  0.0975    0.028000       0.076\n",
       "3  1995-07-01  0.1100    0.007333      -0.077\n",
       "4  1995-10-01  0.1233   -0.037000       0.000"
      ]
     },
     "execution_count": 2,
     "metadata": {},
     "output_type": "execute_result"
    }
   ],
   "source": [
    "read_file = pd.read_excel (r'C:/Users/Alex/Documents/ROE_CPI_PPI_norm.xls')\n",
    "read_file.to_csv (r'C:/Users/Alex/Documents/ROE_CPI_PPI_norm.csv', index = None, header=True)\n",
    "\n",
    "R_model = pd.read_csv('C:/Users/Alex/Documents/ROE_CPI_PPI_norm.csv', encoding = 'cp1251')\n",
    "R_model.head()"
   ]
  },
  {
   "cell_type": "code",
   "execution_count": 3,
   "metadata": {},
   "outputs": [
    {
     "name": "stdout",
     "output_type": "stream",
     "text": [
      "                            OLS Regression Results                            \n",
      "==============================================================================\n",
      "Dep. Variable:                    ROE   R-squared:                       0.014\n",
      "Model:                            OLS   Adj. R-squared:                 -0.007\n",
      "Method:                 Least Squares   F-statistic:                    0.6731\n",
      "Date:                Sat, 07 Dec 2019   Prob (F-statistic):              0.512\n",
      "Time:                        01:03:49   Log-Likelihood:                 105.88\n",
      "No. Observations:                 100   AIC:                            -205.8\n",
      "Df Residuals:                      97   BIC:                            -198.0\n",
      "Df Model:                           2                                         \n",
      "Covariance Type:            nonrobust                                         \n",
      "==============================================================================\n",
      "                 coef    std err          t      P>|t|      [0.025      0.975]\n",
      "------------------------------------------------------------------------------\n",
      "const          0.2066      0.009     24.114      0.000       0.190       0.224\n",
      "CPI_CHANGE     0.0661      0.113      0.586      0.559      -0.158       0.290\n",
      "PPI_CHANGE     0.0050      0.040      0.125      0.901      -0.075       0.085\n",
      "==============================================================================\n",
      "Omnibus:                        3.915   Durbin-Watson:                   0.082\n",
      "Prob(Omnibus):                  0.141   Jarque-Bera (JB):                2.678\n",
      "Skew:                           0.229   Prob(JB):                        0.262\n",
      "Kurtosis:                       2.342   Cond. No.                         13.8\n",
      "==============================================================================\n",
      "\n",
      "Warnings:\n",
      "[1] Standard Errors assume that the covariance matrix of the errors is correctly specified.\n"
     ]
    }
   ],
   "source": [
    "X = R_model[['CPI_CHANGE', 'PPI_CHANGE']]\n",
    "Y = R_model[['ROE']]\n",
    "\n",
    "X = sm.add_constant(X)\n",
    " \n",
    "model = sm.OLS(Y, X).fit()\n",
    "predictions = model.predict(X) \n",
    " \n",
    "print_model = model.summary()\n",
    "print(print_model)"
   ]
  },
  {
   "cell_type": "code",
   "execution_count": 4,
   "metadata": {},
   "outputs": [],
   "source": [
    "ROE = R_model[['ROE']].values.T\n",
    "CPI_index = R_model[['CPI_CHANGE']].values.T\n",
    "PPI_index = R_model[['PPI_CHANGE']].values.T"
   ]
  },
  {
   "cell_type": "markdown",
   "metadata": {},
   "source": [
    "### 1. Средняя ежеквартальная доходность на акции, средняя по CPIENG и PPICME"
   ]
  },
  {
   "cell_type": "code",
   "execution_count": 5,
   "metadata": {},
   "outputs": [
    {
     "name": "stdout",
     "output_type": "stream",
     "text": [
      "Средняя по акциям = 0.20741800000000002, средняя по CPIENG = 0.01104626666666667, средняя по PPICME = 0.01242999999999999\n"
     ]
    }
   ],
   "source": [
    "ROE_mean = np.mean(ROE)\n",
    "CPI_index_mean = np.mean(CPI_index)\n",
    "PPI_index_mean = np.mean(PPI_index)\n",
    "print(f'Средняя по акциям = {ROE_mean}, средняя по CPIENG = {CPI_index_mean}, средняя по PPICME = {PPI_index_mean}')"
   ]
  },
  {
   "cell_type": "markdown",
   "metadata": {},
   "source": [
    "### 2. Стандартное отклонение"
   ]
  },
  {
   "cell_type": "code",
   "execution_count": 6,
   "metadata": {},
   "outputs": [
    {
     "name": "stdout",
     "output_type": "stream",
     "text": [
      "Стандартное отклонение по акциям = 0.08451090388819658, по CPIENG = 0.1269099091422993, по PPICME = 0.3549968522395656\n"
     ]
    }
   ],
   "source": [
    "ROE_std = np.std(ROE)\n",
    "CPI_index_std = np.std(CPI_index)\n",
    "PPI_index_std = np.std(PPI_index)\n",
    "print(f'Стандартное отклонение по акциям = {ROE_std}, по CPIENG = {CPI_index_std}, по PPICME = {PPI_index_std}')"
   ]
  },
  {
   "cell_type": "markdown",
   "metadata": {},
   "source": [
    "### 3. Ковариация с CPIENG"
   ]
  },
  {
   "cell_type": "code",
   "execution_count": 7,
   "metadata": {},
   "outputs": [
    {
     "data": {
      "text/plain": [
       "0.0012601396065993265"
      ]
     },
     "execution_count": 7,
     "metadata": {},
     "output_type": "execute_result"
    }
   ],
   "source": [
    "cov_ROE_CPI = np.cov(ROE, CPI_index)[0][1]\n",
    "cov_ROE_CPI"
   ]
  },
  {
   "cell_type": "markdown",
   "metadata": {},
   "source": [
    "### 4. Ковариация с PPICME"
   ]
  },
  {
   "cell_type": "code",
   "execution_count": 8,
   "metadata": {},
   "outputs": [
    {
     "data": {
      "text/plain": [
       "0.003059698242424242"
      ]
     },
     "execution_count": 8,
     "metadata": {},
     "output_type": "execute_result"
    }
   ],
   "source": [
    "cov_ROE_PPI = np.cov(ROE, PPI_index)[0][1]\n",
    "cov_ROE_PPI"
   ]
  },
  {
   "cell_type": "markdown",
   "metadata": {},
   "source": [
    "### 5. Ковариация между CPIENG и PPICME"
   ]
  },
  {
   "cell_type": "code",
   "execution_count": 9,
   "metadata": {},
   "outputs": [
    {
     "data": {
      "text/plain": [
       "0.0365698109818182"
      ]
     },
     "execution_count": 9,
     "metadata": {},
     "output_type": "execute_result"
    }
   ],
   "source": [
    "cov_CPI_PPI = np.cov(CPI_index, PPI_index)[0][1]\n",
    "cov_CPI_PPI"
   ]
  },
  {
   "cell_type": "markdown",
   "metadata": {},
   "source": [
    "### 6. Корреляция между компанией и CPIENG"
   ]
  },
  {
   "cell_type": "code",
   "execution_count": 10,
   "metadata": {},
   "outputs": [
    {
     "data": {
      "image/png": "[encoded data removed]",
      "text/plain": [
       "<Figure size 864x720 with 2 Axes>"
      ]
     },
     "metadata": {
      "needs_background": "light"
     },
     "output_type": "display_data"
    }
   ],
   "source": [
    "plt.figure(figsize=(12,10))\n",
    "cor = R_model.corr()\n",
    "sns.heatmap(cor, annot=True, cmap=plt.cm.Reds)\n",
    "plt.show()"
   ]
  },
  {
   "cell_type": "code",
   "execution_count": 11,
   "metadata": {},
   "outputs": [
    {
     "name": "stdout",
     "output_type": "stream",
     "text": [
      "                 ROE  CPI_CHANGE\n",
      "ROE         1.000000    0.116318\n",
      "CPI_CHANGE  0.116318    1.000000\n"
     ]
    }
   ],
   "source": [
    "print(R_model[[\"ROE\",\"CPI_CHANGE\"]].corr())"
   ]
  },
  {
   "cell_type": "code",
   "execution_count": 12,
   "metadata": {},
   "outputs": [
    {
     "data": {
      "text/plain": [
       "0.1163176384958999"
      ]
     },
     "execution_count": 12,
     "metadata": {},
     "output_type": "execute_result"
    }
   ],
   "source": [
    "# просто проверить\n",
    "kor = np.corrcoef(ROE, CPI_index)[0][1]\n",
    "kor"
   ]
  },
  {
   "cell_type": "markdown",
   "metadata": {},
   "source": [
    "### 7. Multiple-R (Коэффициент множественной корреляции)"
   ]
  },
  {
   "cell_type": "code",
   "execution_count": 13,
   "metadata": {},
   "outputs": [
    {
     "data": {
      "text/plain": [
       "0.11699713253329057"
      ]
     },
     "execution_count": 13,
     "metadata": {},
     "output_type": "execute_result"
    }
   ],
   "source": [
    "mult_r = np.sqrt(model.rsquared)\n",
    "mult_r"
   ]
  },
  {
   "cell_type": "markdown",
   "metadata": {},
   "source": [
    "### 8. R-squared (коэфф. детерминированности)"
   ]
  },
  {
   "cell_type": "code",
   "execution_count": 14,
   "metadata": {},
   "outputs": [
    {
     "data": {
      "text/plain": [
       "0.013688329021012358"
      ]
     },
     "execution_count": 14,
     "metadata": {},
     "output_type": "execute_result"
    }
   ],
   "source": [
    "r2 = model.rsquared\n",
    "r2"
   ]
  },
  {
   "cell_type": "markdown",
   "metadata": {},
   "source": [
    "### 9. SEE"
   ]
  },
  {
   "cell_type": "code",
   "execution_count": 15,
   "metadata": {},
   "outputs": [
    {
     "data": {
      "text/plain": [
       "ROE           0.008494\n",
       "CPI_CHANGE    0.012755\n",
       "PPI_CHANGE    0.035679\n",
       "dtype: float64"
      ]
     },
     "execution_count": 15,
     "metadata": {},
     "output_type": "execute_result"
    }
   ],
   "source": [
    "see = R_model.sem(axis = 0) \n",
    "see"
   ]
  },
  {
   "cell_type": "markdown",
   "metadata": {},
   "source": [
    "### 10. Intercept (константа)"
   ]
  },
  {
   "cell_type": "code",
   "execution_count": 16,
   "metadata": {},
   "outputs": [
    {
     "data": {
      "text/plain": [
       "0.20662483632102746"
      ]
     },
     "execution_count": 16,
     "metadata": {},
     "output_type": "execute_result"
    }
   ],
   "source": [
    "inter = model.params.const\n",
    "inter"
   ]
  },
  {
   "cell_type": "markdown",
   "metadata": {},
   "source": [
    "__Бет хочет определить является ли корреляция между нашими нефтегазовыми друзьями и CPIENG статистически надежной с 95% уверенностью.__"
   ]
  },
  {
   "cell_type": "markdown",
   "metadata": {},
   "source": [
    "Прибегнем к помощи t-статистики."
   ]
  },
  {
   "cell_type": "code",
   "execution_count": 17,
   "metadata": {},
   "outputs": [
    {
     "data": {
      "text/plain": [
       "1.1594486740477772"
      ]
     },
     "execution_count": 17,
     "metadata": {},
     "output_type": "execute_result"
    }
   ],
   "source": [
    "t = kor * np.sqrt(98) / np.sqrt(1-r2)\n",
    "t"
   ]
  },
  {
   "cell_type": "markdown",
   "metadata": {},
   "source": [
    "t_crit для 98 степеней свободы = +/-1.9842, при alpha = 0.05 . Это означает, что коэфф. корреляции статистически __не значителен__. Prob (F-statistic) = 0.512 также подтверждает наш вывод, хотя и с незначительным перевесом."
   ]
  },
  {
   "cell_type": "markdown",
   "metadata": {},
   "source": [
    "__Если внезапно CPIENG обрушится на 1%, то как сильно разбогатеют акционеры нашей компании?__"
   ]
  },
  {
   "cell_type": "code",
   "execution_count": 18,
   "metadata": {},
   "outputs": [
    {
     "data": {
      "text/plain": [
       "0.20596346984394787"
      ]
     },
     "execution_count": 18,
     "metadata": {},
     "output_type": "execute_result"
    }
   ],
   "source": [
    "ROE = inter + model.params.CPI_CHANGE * - 0.01 + model.params.PPI_CHANGE * 0\n",
    "ROE"
   ]
  },
  {
   "cell_type": "markdown",
   "metadata": {},
   "source": [
    "ExxonMobil вообще не чуствителен к едва заметным изменениям цен на рынке. Акционеры стабильно будут иметь доходность на капитал, равной ~ 20%."
   ]
  },
  {
   "cell_type": "markdown",
   "metadata": {},
   "source": [
    "__Что нам говорит коэфф. детерменированности в модели, которую построила Бет?__"
   ]
  },
  {
   "cell_type": "markdown",
   "metadata": {},
   "source": [
    "Он говорит о том, что изменения в индексе CPIENG объясняют лишь 1.4% изменений в ROE"
   ]
  },
  {
   "cell_type": "markdown",
   "metadata": {},
   "source": [
    "__Что является некорректным из следующих утверждений, исходя из анализа Бет?__"
   ]
  },
  {
   "cell_type": "markdown",
   "metadata": {},
   "source": [
    "a. Константа статистически значима при alpha = 0.025\n",
    "\n",
    "b. Полученное значение Durbin-Watson говорит о том, что при построении модели были серьезные ошибки в допущениях.\n",
    "\n",
    "c. Крутость распределения (kurtosis,  коэффициент эксцесса распределения) говорит о том, что давно пора срочно сбрасывать акции компании и спасать нажитое непосильным трудом."
   ]
  },
  {
   "cell_type": "markdown",
   "metadata": {},
   "source": [
    "Утверждение __b `некорректно`__, т.к. если значение DW находится в диапазоне 1.5 < DW < 2.5, то это означает, что параметры подобраны верно, допущения корректны, ошибки (errors) стационарны и нормально распределены со средним значением 0."
   ]
  },
  {
   "cell_type": "markdown",
   "metadata": {},
   "source": [
    "Утверждение __c `некорректно`__, т.к. крутость распределения показывает отрицательный избыточный эксцесс (platykurtic distribution). Такое распределение имеет небольшие выбросы с плоскими 'хвостами'. В финансовом контексте эта форма  распределения доходности капитала является желательной для акционеров, поскольку существует небольшая вероятность значительных колебаний в доходности."
   ]
  }
 ],
 "metadata": {
  "kernelspec": {
   "display_name": "Python 3",
   "language": "python",
   "name": "python3"
  },
  "language_info": {
   "codemirror_mode": {
    "name": "ipython",
    "version": 3
   },
   "file_extension": ".py",
   "mimetype": "text/x-python",
   "name": "python",
   "nbconvert_exporter": "python",
   "pygments_lexer": "ipython3",
   "version": "3.7.3"
  }
 },
 "nbformat": 4,
 "nbformat_minor": 2
}
